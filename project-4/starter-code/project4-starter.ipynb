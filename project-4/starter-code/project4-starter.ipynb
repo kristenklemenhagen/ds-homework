{
 "cells": [
  {
   "cell_type": "markdown",
   "metadata": {},
   "source": [
    "# Project 4\n",
    "\n",
    "In this project, you will summarize and present your analysis from Projects 1-3."
   ]
  },
  {
   "cell_type": "markdown",
   "metadata": {},
   "source": [
    "### Intro: Write a problem Statement/ Specific Aim for this project"
   ]
  },
  {
   "cell_type": "markdown",
   "metadata": {},
   "source": [
    "Answer: The purpose of this analysis is to attempt to predict the probability of admission to graduate school, based on undergraduate GPA, GRE score, and a prestige ranking of the applicant's undergraduate institution. The outcome measure is admission decision (0=reject; 1=admit), and predictors are GPA (integer), GRE (integer), and prestige (categorical from 1-4, 1 being the highest prestige). The data were supplied by UCLA/yhat, and were not identified by a specific year or major/area of study. "
   ]
  },
  {
   "cell_type": "markdown",
   "metadata": {},
   "source": [
    "### Dataset:  Write up a description of your data and any cleaning that was completed"
   ]
  },
  {
   "cell_type": "markdown",
   "metadata": {},
   "source": [
    "Answer: The data include 400 rows, with one individual per row. The columns represented admission decision (binary 1 or 0), GRe (integer), GPA (integer), and prestige (categorical, 1-4). There were a small number of missing data points, two missing from GRE and GPA each, and one missing from prestige. These rows were excluded using dropna(). "
   ]
  },
  {
   "cell_type": "markdown",
   "metadata": {
    "collapsed": true
   },
   "source": [
    "### Demo: Provide a table that explains the data by admission status"
   ]
  },
  {
   "cell_type": "code",
   "execution_count": 1,
   "metadata": {
    "collapsed": true
   },
   "outputs": [],
   "source": [
    "#imports\n",
    "from __future__ import division\n",
    "import pandas as pd\n",
    "import numpy as np\n",
    "import matplotlib.pyplot as plt\n",
    "import statsmodels.api as sm\n",
    "import pylab as pl\n",
    "import numpy as np\n",
    "%matplotlib inline"
   ]
  },
  {
   "cell_type": "code",
   "execution_count": 2,
   "metadata": {
    "collapsed": false
   },
   "outputs": [
    {
     "data": {
      "text/html": [
       "<div>\n",
       "<table border=\"1\" class=\"dataframe\">\n",
       "  <thead>\n",
       "    <tr style=\"text-align: right;\">\n",
       "      <th></th>\n",
       "      <th></th>\n",
       "      <th>gpa</th>\n",
       "      <th>gre</th>\n",
       "      <th>prestige</th>\n",
       "    </tr>\n",
       "    <tr>\n",
       "      <th>admit</th>\n",
       "      <th></th>\n",
       "      <th></th>\n",
       "      <th></th>\n",
       "      <th></th>\n",
       "    </tr>\n",
       "  </thead>\n",
       "  <tbody>\n",
       "    <tr>\n",
       "      <th rowspan=\"8\" valign=\"top\">0</th>\n",
       "      <th>count</th>\n",
       "      <td>271.000000</td>\n",
       "      <td>271.000000</td>\n",
       "      <td>271.000000</td>\n",
       "    </tr>\n",
       "    <tr>\n",
       "      <th>mean</th>\n",
       "      <td>3.347159</td>\n",
       "      <td>573.579336</td>\n",
       "      <td>2.645756</td>\n",
       "    </tr>\n",
       "    <tr>\n",
       "      <th>std</th>\n",
       "      <td>0.376355</td>\n",
       "      <td>116.052798</td>\n",
       "      <td>0.918922</td>\n",
       "    </tr>\n",
       "    <tr>\n",
       "      <th>min</th>\n",
       "      <td>2.260000</td>\n",
       "      <td>220.000000</td>\n",
       "      <td>1.000000</td>\n",
       "    </tr>\n",
       "    <tr>\n",
       "      <th>25%</th>\n",
       "      <td>3.080000</td>\n",
       "      <td>500.000000</td>\n",
       "      <td>2.000000</td>\n",
       "    </tr>\n",
       "    <tr>\n",
       "      <th>50%</th>\n",
       "      <td>3.340000</td>\n",
       "      <td>580.000000</td>\n",
       "      <td>3.000000</td>\n",
       "    </tr>\n",
       "    <tr>\n",
       "      <th>75%</th>\n",
       "      <td>3.610000</td>\n",
       "      <td>660.000000</td>\n",
       "      <td>3.000000</td>\n",
       "    </tr>\n",
       "    <tr>\n",
       "      <th>max</th>\n",
       "      <td>4.000000</td>\n",
       "      <td>800.000000</td>\n",
       "      <td>4.000000</td>\n",
       "    </tr>\n",
       "    <tr>\n",
       "      <th rowspan=\"8\" valign=\"top\">1</th>\n",
       "      <th>count</th>\n",
       "      <td>126.000000</td>\n",
       "      <td>126.000000</td>\n",
       "      <td>126.000000</td>\n",
       "    </tr>\n",
       "    <tr>\n",
       "      <th>mean</th>\n",
       "      <td>3.489206</td>\n",
       "      <td>618.571429</td>\n",
       "      <td>2.150794</td>\n",
       "    </tr>\n",
       "    <tr>\n",
       "      <th>std</th>\n",
       "      <td>0.371655</td>\n",
       "      <td>109.257233</td>\n",
       "      <td>0.921455</td>\n",
       "    </tr>\n",
       "    <tr>\n",
       "      <th>min</th>\n",
       "      <td>2.420000</td>\n",
       "      <td>300.000000</td>\n",
       "      <td>1.000000</td>\n",
       "    </tr>\n",
       "    <tr>\n",
       "      <th>25%</th>\n",
       "      <td>3.220000</td>\n",
       "      <td>540.000000</td>\n",
       "      <td>1.000000</td>\n",
       "    </tr>\n",
       "    <tr>\n",
       "      <th>50%</th>\n",
       "      <td>3.545000</td>\n",
       "      <td>620.000000</td>\n",
       "      <td>2.000000</td>\n",
       "    </tr>\n",
       "    <tr>\n",
       "      <th>75%</th>\n",
       "      <td>3.757500</td>\n",
       "      <td>680.000000</td>\n",
       "      <td>3.000000</td>\n",
       "    </tr>\n",
       "    <tr>\n",
       "      <th>max</th>\n",
       "      <td>4.000000</td>\n",
       "      <td>800.000000</td>\n",
       "      <td>4.000000</td>\n",
       "    </tr>\n",
       "  </tbody>\n",
       "</table>\n",
       "</div>"
      ],
      "text/plain": [
       "                    gpa         gre    prestige\n",
       "admit                                          \n",
       "0     count  271.000000  271.000000  271.000000\n",
       "      mean     3.347159  573.579336    2.645756\n",
       "      std      0.376355  116.052798    0.918922\n",
       "      min      2.260000  220.000000    1.000000\n",
       "      25%      3.080000  500.000000    2.000000\n",
       "      50%      3.340000  580.000000    3.000000\n",
       "      75%      3.610000  660.000000    3.000000\n",
       "      max      4.000000  800.000000    4.000000\n",
       "1     count  126.000000  126.000000  126.000000\n",
       "      mean     3.489206  618.571429    2.150794\n",
       "      std      0.371655  109.257233    0.921455\n",
       "      min      2.420000  300.000000    1.000000\n",
       "      25%      3.220000  540.000000    1.000000\n",
       "      50%      3.545000  620.000000    2.000000\n",
       "      75%      3.757500  680.000000    3.000000\n",
       "      max      4.000000  800.000000    4.000000"
      ]
     },
     "execution_count": 2,
     "metadata": {},
     "output_type": "execute_result"
    }
   ],
   "source": [
    "df_raw = pd.read_csv(\"../assets/admissions.csv\")\n",
    "df_no_missing = df_raw.dropna()\n",
    "df_no_missing.groupby(['admit']).describe()"
   ]
  },
  {
   "cell_type": "code",
   "execution_count": 6,
   "metadata": {
    "collapsed": false
   },
   "outputs": [
    {
     "name": "stdout",
     "output_type": "stream",
     "text": [
      "prestige  1.0  2.0  3.0  4.0\n",
      "admit                       \n",
      "0          28   95   93   55\n",
      "1          33   53   28   12\n"
     ]
    }
   ],
   "source": [
    "print pd.crosstab(df_no_missing['admit'], df_no_missing['prestige'], rownames=['admit'])"
   ]
  },
  {
   "cell_type": "markdown",
   "metadata": {},
   "source": [
    "Mean (STD) or counts by admission status for each variable \n",
    "\n",
    "| Not Admitted | Admitted\n",
    "---| ---|---\n",
    "GPA | 3.347159(0.376355) | 3.489206(0.371655) \n",
    "GRE | 573.579336(116.052798) | 618.571429(109.257233)\n",
    "Prestige 1 | 28 (%) | 33 (%)\n",
    "Prestige 2 | 95 (%) | 53 (%)\n",
    "Prestige 3 | 93 (%) | 28 (%)\n",
    "Prestige 4 | 55 (%) | 12 (%)"
   ]
  },
  {
   "cell_type": "markdown",
   "metadata": {},
   "source": [
    "### Methods: Write up the methods used in your analysis"
   ]
  },
  {
   "cell_type": "markdown",
   "metadata": {},
   "source": [
    "Answer: Logistic regression was the main methods used to predict admission probability based on the independent variables GPA, GRE, and prestige. Logistic regression is used to predict a binary dependent outcome variable based on one or more independent variables. Dummy variables were created for the prestige data to make them categorical, because although they were provided as the integers 1-4, is is unknonwn if there was a linear relationship in the rnaking where a \"4\" school was 4 times worse than a \"1\" school. Since prestige had 4 levels, 3 dummy variables were required to describe it. \n",
    "\n",
    "Odds and odds ratios of admission were calculated from tabulated data to get a sense of overall patterns of admission. \n",
    "\n",
    "For the primary logistic regression, we used admit as the binary outcome variable, and gre, gpa, prestige 2, prestige 3, and prestige 4 as the independent variables. Constant and intercept terms were added, as the statsmodel function requires explicit definition of constants and intercepts. The result of the logistic regression gives estimates for the coefficients and their 95% confidence intervals. These coefficient estimates are then exponentiated [np.exp()] to convert them from log-odds to odds.\n",
    "\n",
    "Finally, we evaluated our model by looking at every combination of variables to see how each variable influences the others in predicting the probability of admission. A range of linearly spaced values within the ranges of each variable was created to aid in visualizing the relationships between the variables. "
   ]
  },
  {
   "cell_type": "markdown",
   "metadata": {},
   "source": [
    "### Results: Write up your results"
   ]
  },
  {
   "cell_type": "markdown",
   "metadata": {},
   "source": [
    "Answer: By calculating the odds and odds ratios, we can observe that the odds of receiving an acceptance to graduate school if you attended a prestige school ranked 1 compared to any other school is approximately 1.8. The odds ratio of prestige 1 school applicants compared to all other applicants is about 3.1, so you are 3.1 times more likely to be admitted to graduate school if you attended a prestige 1 undergraduate school. Conversely, for students who attended a prestige 4 school, their odds of admission were approximately 0.4, or 60% lower than students who went to prestige 1, 2, or 3 ranked schools. \n",
    "\n",
    "In the logistic regression, we found estimates of the coefficients and their 95% confidence intervals. Prestige 1 was set as the baseline level, so an odds ratio of .51 for prestige 2 predicts that students from a prestige 2 school are .51 times (or 49% less likely) to be admitted to graduate school than students from a prestige 1 school. The odds for prestige 3 students were 0.26, and for prestige 4 students, they were 0.21, demonstrating that the lower the number of prestige (and therefore the higher the ranking of the school), the higher the predicted probability of admission is. \n",
    "\n",
    "The odds ratio of the GPA was approximately 2.18, indicating that for every 1 unit increase in GPA, the odds of admission to grad school increased by 2.18 times, or 118%. \n",
    "\n",
    "Holding GRE constant at 800, and looking at a sample of data that varied prestige, we can see that someone from a prestige 1 school has a 73% predicted chance of admission, whereas someone from a prestige 2 school has only a 58% predicted chance of admission. As the students' school prestige lowers, so do their admission chances, despite the perfect GRE score being held constant (prestige 3: 42%, and prestige 4: 37%)."
   ]
  },
  {
   "cell_type": "markdown",
   "metadata": {},
   "source": [
    "### Visuals: Provide a table or visualization of these results"
   ]
  },
  {
   "cell_type": "markdown",
   "metadata": {},
   "source": [
    "<img src='gre_by_admit.png' height= 25% width= 25%>"
   ]
  },
  {
   "cell_type": "markdown",
   "metadata": {},
   "source": [
    "This is actually the first time I looked at the data visually by scatterplot (and not histogram as earlier in the assignment) and suspected they might be fake data due to the spacing between points and not actual real admissions data. One of my stats teachers always said to always, always make a scatterplot, but I never learn. "
   ]
  },
  {
   "cell_type": "markdown",
   "metadata": {},
   "source": [
    "<img src='gre_and_prestige_admitted.png' height= 25% width= 25%>"
   ]
  },
  {
   "cell_type": "markdown",
   "metadata": {},
   "source": [
    "This graph shows separate lines for each prestige level, plotting GRE against probability of admission. It visually demonstrates the pattern that higher GRE is associated with higher probability of admission for all prestige levels, but higher prestige school students start and end at a higher probability compared to the next prestige level down the ladder. "
   ]
  },
  {
   "cell_type": "code",
   "execution_count": null,
   "metadata": {
    "collapsed": true
   },
   "outputs": [],
   "source": [
    "<img src='gpa_and_prestige_admitted.png' height= 25% width= 25%>"
   ]
  },
  {
   "cell_type": "markdown",
   "metadata": {},
   "source": [
    "The exact same pattern holds true for GPA as for GRE. "
   ]
  },
  {
   "cell_type": "markdown",
   "metadata": {},
   "source": [
    "### Discussion: Write up your discussion and future steps"
   ]
  },
  {
   "cell_type": "markdown",
   "metadata": {},
   "source": [
    "Answer: The results of analyzing this dataset of admission probability given GRE, GPA, and undergraduate school prestige indicate that all three of the independent variables contribute to the probability of admission, with higher levels (lower actual numbers in the case of prestige) contributing positively to the student's chance of admission. From the combinations of variables examined, it appears that undergraduate school prestige contributes more to the chance of admission, since for example, a prestige 1 student with a GPA of ~2.2 has about the same chance of admission as a student from a prestige 3 school with a 4.0 GPA, and a higher chance of admission than a prestige 4 student with a 4.0 GPA, with the same pattern holding true for GRE scores. \n",
    "\n",
    "In future steps, I might be interested in examining the variable of prestige more in-depth. What kind of prestige is positively associated with graduate school admissions? Is it primarily academic or activity-based, or is it sports-based prestige? I would attempt to split prestige into a greater number of more specific categories to examine this. I would also like to examine prestige over more schools than just this school (UCLA?). Perhaps this school is an outlier in giving such high weight to undergrate school prestige in graduate admissions. Within the same school, I would like to examine whether this pattern is true for all areas of study, or if it is more common in one type of field, such as in the arts or in engineering. "
   ]
  },
  {
   "cell_type": "code",
   "execution_count": null,
   "metadata": {
    "collapsed": true
   },
   "outputs": [],
   "source": []
  }
 ],
 "metadata": {
  "kernelspec": {
   "display_name": "Python [Root]",
   "language": "python",
   "name": "Python [Root]"
  },
  "language_info": {
   "codemirror_mode": {
    "name": "ipython",
    "version": 2
   },
   "file_extension": ".py",
   "mimetype": "text/x-python",
   "name": "python",
   "nbconvert_exporter": "python",
   "pygments_lexer": "ipython2",
   "version": "2.7.12"
  }
 },
 "nbformat": 4,
 "nbformat_minor": 0
}
