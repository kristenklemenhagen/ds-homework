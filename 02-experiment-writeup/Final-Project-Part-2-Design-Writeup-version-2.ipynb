{
 "cells": [
  {
   "cell_type": "markdown",
   "metadata": {},
   "source": [
    "## Project: Mental Health in the Technology Workplace: Mental Health Characteristics of Technology Workers, Attitudes Towards Mental Health at Work, and Predictors of Mental Health Disorders\n",
    "\n",
    "### <i>Based on the Open Sourcing Mental Illness (OSMI) 2014 and 2016 self-report surveys of mental health among tech workers</i>"
   ]
  },
  {
   "cell_type": "markdown",
   "metadata": {},
   "source": [
    "### Project Problem and Hypothesis"
   ]
  },
  {
   "cell_type": "markdown",
   "metadata": {},
   "source": [
    "Maintaining good mental health is important for all employees, and mental health has recently become a particularly relevant topic for workers in the technology industry. From the high pressure, stress, and expectations of startup culture to the potential loneliness and isolation of remote work, tech workers may be particularly at risk for developing mental health issues. With 1 in 5 American adults experiencing mental illness in a given year, and 1 in 25 experiencing a serious mental illness that limits one or more major life activities (http://www.nami.org/Learn-More/Mental-Health-By-the-Numbers), higher rates in the technology sector may be significantly impacting productivity in the US. \n",
    "\n",
    "Using two datasets of self-report survery information pertaining to mental health in tech workers, I will examine the characteristics and attitudes towards mental health in the technology workplace among the survey respondents. Ultimately, I will test whether any demographic characteristics or attitudes predict self-reported mental illness status in these individuals. These predictions will be predicting a binary value, ill or healthy. \n",
    "\n",
    "Although self-report datasets are not necessarily reflective of an unbiased population sample, these preliminiary results may indicate risk factors for the development of mental illness and highlight the cost of untreated mental illness in the tech workplace. The results may make tech employers more willing to include mental health converage in their insurance plans. \n",
    "\n",
    "Based on the data available, I predict that family history of mental illness will have a large impact on the mental health status of the survey respondents. There is an established genetic component to many mental illnesses. However, there are also environmental components to mental illness, and I predict that there may be weak correlation between mental illness status and negative attitudes towards mental illness in the workplace, as measured by whether the respondents know if mental health is covered under their insurance, if wellness programs are offered, if management is responsive and accomodating to mental illness, and if anonymity is respected when utilizing employer-provided mental health resources. \n",
    "\n",
    "Additionally, if time allows, I will examine if attitudes of workers and workplaces towards mental illness have changed between 2014 and 2016. The Affordable Care Act significantly increased the mental health coverage and resources available to Americans since its beginning in 2010. However, many people remained unaware of the mental health benefits now available, or were not covered under policies governed by the ACA. I predict that there will be a small increase in coverage and a slight shift towards more positive or accepting opinions about mental illness between 2014 and 2016.  "
   ]
  },
  {
   "cell_type": "markdown",
   "metadata": {},
   "source": [
    "### Datasets"
   ]
  },
  {
   "cell_type": "markdown",
   "metadata": {},
   "source": [
    "The datasets that I will be using were provided by the Open Sourcing Mental Illness (OSMI) organization and made available on Kaggle. The 2016 dataset includes additional, mostly repetitive questions concerning previous employers that was not included in the 2014 set. Since I am interested in comparing the two datasets, I will primarily focus on the set of variables available in both datasets. \n",
    "\n",
    "Additionally, after reading the free-input comments field that was included in the survey, I have decided to drop all non-US survey respondents. For the 2014 dataset, approximately 60% of the respondents are from the US, and the next highest country (UK) represents only 15% of the total data. The remainder are spread among 46 additional countries, many with few representatives. Furthermore, many of the comments said the questions about employer-provided healthcare were irrelevant to their country, which had national healthcare systems. \n",
    "\n",
    "The following data fields are available in both datasets:\n",
    "\n",
    "| Variable  | Description | Data type |\n",
    "|---|---|---|\n",
    "| age | age in years| integer |\n",
    "| gender | gender | string |\n",
    "| country | country of residence | categorical |\n",
    "| state | state of residence | categorical |\n",
    "| self_employed | self-employed? | binary |\n",
    "| family_history | family history of mental illness | binary |\n",
    "| treatment | have you sought mental health treatment? | binary |\n",
    "| work_interfere | if you have mental illness, does it interfere with work? | categorical: never, rarely, sometimes, often |\n",
    "| no_employees | how many employees does your company have? | categorical (6 levels) |\n",
    "| tech_company | is your employer primarily a tech company? | binary |\n",
    "| benefits | does your employer provide mental health benefits? | categorical: yes, no, don't know |\n",
    "| care_options | do you know the options for mental health care provided by your employer? | categorical: yes, no, not sure |\n",
    "| wellness_program | has your employer discussed mental health as part of a wellness program? | categorical: yes, no, don't know |\n",
    "| seek_help | does your employer offer resources and information on how to seek mental health help? | categorical: yes, no, don't know |\n",
    "| anonymity | is anonymity protected if you use employer mental health resources? | categorical: yes, no, don't know |\n",
    "| leave | how easy it it to take leave for mental health reasons? | categorical (5 levels, including don't know) |\n",
    "| mental_health_consequence | would discussing mental health with your employer have negative consequences? | categorical: yes, no, maybe |\n",
    "| phys_health_consequence | would discussing physical health with your employer have negative consequences? | categorical: yes, no, maybe |\n",
    "| coworkers | would you be willing to discuss mental health with a coworker? | categorical: yes, no, some |\n",
    "| supervisor | would you be willing to discuss mental health with a supervisor? | categorical: yes, no, some |\n",
    "| mental_health_interview | would you disclose a mental illness during an interview? | categorical: yes, no, maybe |\n",
    "| phys_health_interview | would you disclose a physical illness during an interview? | categorical: yes, no, maybe |\n",
    "| mental_vs_physical | do you feel your employer takes mental health as seriously as physical health? | categorical: yes, no, don't know |\n",
    "| obs_consequence | have you observed negative consequences for coworkers with mental illness in your workplace | categorical: yes, no |\n",
    "| comments | any additional comments | string |\n",
    "\n",
    "<i>Here, categorical means chosen from categories listed by the survey, as opposed to a free text field.</i>"
   ]
  },
  {
   "cell_type": "markdown",
   "metadata": {},
   "source": [
    "### Domain knowledge"
   ]
  },
  {
   "cell_type": "markdown",
   "metadata": {},
   "source": [
    "I have 15 years of experience in neuroscience research, with approximately 6 of those years in clinical research and 9 years in basic science models of anxiety and depression. I am currently leading a research group designing a clinical trial for exercise as a non-pharmacological intervention for anxiety. My experience will help me interpret the outcomes of statistical testing in this project and how statistical results can be translated to real-world recommendations. \n",
    "\n",
    "Previous work: A research group in the Netherlands (Corne Roelen and colleagues) has conducted several large-scale studies using questionnaires to attempt to predict which workers will end up taking long term disability due to mental health issues. Briefly, they find that a measure of \"distress\" is a fair predictor of future long-term disability (AUC=0.75), whereas \"depressed mood\" and \"fatigue\" were poor predictors (AUC=0.64 and 0.61, respectively) of long-term disability. (ref: https://www.ncbi.nlm.nih.gov/pmc/articles/PMC4676883/). None of these factors is directly measured in the dataset I will be analyzing, although one might provisionally infer distress from mental illness interfering with work and perhaps not seeking treatment for mental illness. \n",
    "\n",
    "The logistic regression models used by Roelen and colleagues use AUC for comparing different predictors, so I will plan to use AUC as a benchmark to compare my models as well."
   ]
  },
  {
   "cell_type": "markdown",
   "metadata": {},
   "source": [
    "### Project Concerns"
   ]
  },
  {
   "cell_type": "markdown",
   "metadata": {},
   "source": [
    "Questions I have about the project is if there is a better measure for benchmarking different logistic regression models against each other. \n",
    "\n",
    "Some major assumptions of these data are that they reflect the general population, or the population of technology workers. However, the data are derived from self-report and self-selected survey respondents, who often have more extreme views compared to the general population. \n",
    "\n",
    "I wish that the survey had asked if the respondent has a mental illness. This straightforward question is not included and I will have to infer it from \"treatment\" and \"work_interfere\". I will examine how this compares to \"family_history\". I expect there to be major overlap of these characteristics, but not 100% agreement.  \n",
    "\n",
    "The cost of the model being wrong might be giving some people the idea that correlation is causation - for example, if someone has a family history of mental illness and these data show that family history is a significant predictor of illness, that does not prove that someone with a family history definitely has mental illness themselves. "
   ]
  },
  {
   "cell_type": "markdown",
   "metadata": {},
   "source": [
    "### Outcomes"
   ]
  },
  {
   "cell_type": "markdown",
   "metadata": {},
   "source": [
    "I expect the output of the logistic regressions to be log-odds for mental illness (approximated by \"treatment\" and \"work_interfere\") and AUC measurements. Additionally, the problem statement included on Kaggle suggested the organization is interested in geographical differences, so I will produce some maps of the US for different characteristics if time allows (using the community version of Plotly). \n",
    "\n",
    "I expect family history might be the most important feature, contributing up to 50% of the gain in the model. \n",
    "\n",
    "These models can be failrly simple, using only one or a few features in the dataset. However, the models can be made more complex by looking at intersections of the data (for example, older people working in larger companies vs. younger people working in smaller companies) and engineering new features. \n",
    "\n",
    "Based on published work, an AUC score of 0.7 or greater is a \"fair\" predictor and AUC scores in the 0.60s are poor predictors. \n",
    "\n",
    "If none of the features a good at predicting inferred mental health status, geographical distributions of attitudes might still be interesting to examine. "
   ]
  }
 ],
 "metadata": {
  "kernelspec": {
   "display_name": "Python [Root]",
   "language": "python",
   "name": "Python [Root]"
  },
  "language_info": {
   "codemirror_mode": {
    "name": "ipython",
    "version": 2
   },
   "file_extension": ".py",
   "mimetype": "text/x-python",
   "name": "python",
   "nbconvert_exporter": "python",
   "pygments_lexer": "ipython2",
   "version": "2.7.12"
  }
 },
 "nbformat": 4,
 "nbformat_minor": 0
}
